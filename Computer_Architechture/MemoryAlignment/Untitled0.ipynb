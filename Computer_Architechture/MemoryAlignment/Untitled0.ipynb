{
 "metadata": {
  "name": "",
  "signature": "sha256:21a613e599e8f5144b2a9561dbaa06b6a838e6dc373ffeced93d80cda0148278"
 },
 "nbformat": 3,
 "nbformat_minor": 0,
 "worksheets": [
  {
   "cells": [
    {
     "cell_type": "markdown",
     "metadata": {},
     "source": [
      "MIMD\n",
      "SIMD\n",
      "Numpy is inherenintly SIMD since version 1.8.\n"
     ]
    },
    {
     "cell_type": "code",
     "collapsed": false,
     "input": [
      "import numpy as np\n",
      "import seaborn as sns\n",
      "import matplotlib as mpl\n",
      "import matplotlib.pyplot as plt\n",
      "import timeit\n",
      "from collections import defaultdict\n",
      "%pylab inline\n",
      "\n",
      "\n",
      "#Maximum memory in GB\n",
      "MAXIMUM_MEMORY = 0.5\n",
      "\n",
      "#Maximum doubles size\n",
      "dim_array_max = int(MAXIMUM_MEMORY*1E9/8)\n",
      "dim_matrix_max = int(dim_array_max**0.5)\n"
     ],
     "language": "python",
     "metadata": {},
     "outputs": [
      {
       "output_type": "stream",
       "stream": "stdout",
       "text": [
        "Populating the interactive namespace from numpy and matplotlib\n"
       ]
      }
     ],
     "prompt_number": 52
    },
    {
     "cell_type": "markdown",
     "metadata": {},
     "source": [
      "#Bulid a few functions\n",
      "Registry 1000B 1\n",
      "Level1 Cache 64KB 2\n",
      "Level2 Cache 12MB 10\n",
      "LEvel3 Cache 18MB 40\n",
      "DRAM          4GB 1000\n",
      "\n",
      "Cache Miss\n",
      "L1                10\n",
      "L2                100\n",
      "\n",
      "Memory transfers in main memory by line 8-512 bytes\n",
      "To Google:\n",
      "    Strip 1 access"
     ]
    },
    {
     "cell_type": "code",
     "collapsed": false,
     "input": [
      "Arithematic Logic Units (ALU)\n",
      "\n",
      "Int\n",
      "Instruction Latency\n",
      "Add 1 \n",
      "Mul 3-4\n",
      "Div 20-94\n",
      "bitshift 1\n",
      "\n",
      "Float\n",
      "Introduction\n",
      "Add 3\n",
      "Mul 5\n",
      "Div 21-45\n",
      "Sqrt 21-43"
     ],
     "language": "python",
     "metadata": {},
     "outputs": []
    },
    {
     "cell_type": "code",
     "collapsed": false,
     "input": [
      "sample_size = 50\n",
      "sample_count = 10\n",
      "\n",
      "array_sizes = np.linspace(10, dim_array_max, sample_count)\n",
      "matrix_sizes = np.linspace(10, dim_matrix_max, sample_count)\n",
      "\n",
      "arr_size = []\n",
      "f_times = []\n",
      "c_times = []\n",
      "\n",
      "for x in matrix_sizes:\n",
      "    x = int(x)\n",
      "    arr_size.append(x)\n",
      "\n",
      "    #Time c-array sum over first axis\n",
      "    carray = np.random.rand(x,x)\n",
      "    ctime = timeit.timeit('carray.sum(axis=1)',\n",
      "                      'import numpy as np; from __main__ import carray',\n",
      "                      number=30)\n",
      "    c_times.append(ctime)\n",
      "    \n",
      "    #time f-array sum over first axis\n",
      "    farray = np.asfortranarray(carray)\n",
      "    ftime = timeit.timeit('farray.sum(axis=1)',\n",
      "                  'import numpy as np; from __main__ import farray',\n",
      "                  number=30)\n",
      "    f_times.append(ftime)\n",
      "\n",
      "f_times = np.array(f_times)\n",
      "c_times = np.array(c_times)\n",
      "arr_size = np.array(arr_size)\n",
      "    \n",
      "plt.plot(np.arange(f_times.shape[0]), f_times)\n",
      "plt.plot(np.arange(f_times.shape[0]), c_times)"
     ],
     "language": "python",
     "metadata": {},
     "outputs": [
      {
       "metadata": {},
       "output_type": "pyout",
       "prompt_number": 48,
       "text": [
        "[<matplotlib.lines.Line2D at 0x10b8b4810>]"
       ]
      },
      {
       "metadata": {},
       "output_type": "display_data",
       "png": "[encoded data removed]",
       "text": [
        "<matplotlib.figure.Figure at 0x10b8b4bd0>"
       ]
      }
     ],
     "prompt_number": 48
    },
    {
     "cell_type": "code",
     "collapsed": false,
     "input": [
      "sample_size = 50\n",
      "sample_count = 10\n",
      "\n",
      "array_sizes = np.linspace(1E5, dim_array_max/10, sample_count)\n",
      "matrix_sizes = np.linspace(10, dim_matrix_max, sample_count)\n",
      "\n",
      "times = defaultdict(list)\n",
      "\n",
      "def time_arr_operation(operation, number=10):\n",
      "    return timeit.timeit(operation,\n",
      "        'import numpy as np; from __main__ import arr',\n",
      "         number=number)\n",
      "    \n",
      "\n",
      "for x in array_sizes:\n",
      "    x = int(x)\n",
      "    arr = np.random.rand(x)\n",
      "    GB_Size = arr.nbytes/1E9\n",
      "    \n",
      "    times['add'].append(time_arr_operation('arr+arr', number=sample_size)/GB_Size)\n",
      "    times['mul'].append(time_arr_operation('arr*arr', number=sample_size)/GB_Size)\n",
      "    times['div'].append(time_arr_operation('arr/arr', number=sample_size)/GB_Size)\n",
      "\n",
      "        \n",
      "for key in times.keys():\n",
      "    plt.plot(np.arange(sample_count), times[key], label=key)\n",
      "    \n",
      "plt.legend()\n",
      "    "
     ],
     "language": "python",
     "metadata": {},
     "outputs": [
      {
       "metadata": {},
       "output_type": "pyout",
       "prompt_number": 67,
       "text": [
        "<matplotlib.legend.Legend at 0x11d8e8410>"
       ]
      },
      {
       "metadata": {},
       "output_type": "display_data",
       "png": "[encoded data removed]",
       "text": [
        "<matplotlib.figure.Figure at 0x10c3f8690>"
       ]
      }
     ],
     "prompt_number": 67
    },
    {
     "cell_type": "code",
     "collapsed": false,
     "input": [],
     "language": "python",
     "metadata": {},
     "outputs": []
    }
   ],
   "metadata": {}
  }
 ]
}